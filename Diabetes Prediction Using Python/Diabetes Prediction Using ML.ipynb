{
 "cells": [
  {
   "cell_type": "code",
   "execution_count": 1,
   "id": "4f8921b7",
   "metadata": {},
   "outputs": [],
   "source": [
    "import numpy as np\n",
    "import pandas as pd\n",
    "import seaborn as sns\n",
    "import statsmodels.api as sm\n",
    "import matplotlib.pyplot as plt\n",
    "from sklearn.preprocessing import scale, StandardScaler\n",
    "from sklearn.model_selection import train_test_split, GridSearchCV, cross_val_score\n",
    "from sklearn.metrics import confusion_matrix, accuracy_score, mean_squared_error, r2_score, roc_auc_score, roc_curve, classification_report\n",
    "from sklearn.linear_model import LogisticRegression\n",
    "from sklearn.neighbors import KNeighborsClassifier\n",
    "from sklearn.svm import SVC\n",
    "from sklearn.neural_network import MLPClassifier\n",
    "from sklearn.tree import DecisionTreeClassifier\n",
    "from sklearn.ensemble import RandomForestClassifier, GradientBoostingClassifier\n",
    "from sklearn.model_selection import KFold\n",
    "import warnings\n",
    "warnings.simplefilter(action='ignore')\n",
    "sns.set()\n",
    "plt.style.use(\"ggplot\")\n",
    "%matplotlib inline\n"
   ]
  },
  {
   "cell_type": "code",
   "execution_count": null,
   "id": "16890121",
   "metadata": {},
   "outputs": [],
   "source": [
    "# import numpy as np\n",
    "# print(np.__version__)"
   ]
  },
  {
   "cell_type": "code",
   "execution_count": null,
   "id": "8968a32c",
   "metadata": {},
   "outputs": [],
   "source": [
    "# import sys\n",
    "# print(sys.executable)\n"
   ]
  },
  {
   "cell_type": "code",
   "execution_count": null,
   "id": "b3bbf09f",
   "metadata": {},
   "outputs": [],
   "source": []
  },
  {
   "cell_type": "code",
   "execution_count": 5,
   "id": "c8465d06",
   "metadata": {},
   "outputs": [],
   "source": [
    "# read the dataset from dir\n",
    "df = pd.read_csv(r\"C:\\Python Projects\\DS\\Diabetes Prediction Using Python\\diabetes.csv\")"
   ]
  },
  {
   "cell_type": "code",
   "execution_count": null,
   "id": "964c94a3",
   "metadata": {},
   "outputs": [],
   "source": [
    "df.head()"
   ]
  },
  {
   "cell_type": "code",
   "execution_count": null,
   "id": "c4a8d050",
   "metadata": {},
   "outputs": [],
   "source": [
    "# Supervised or Unsupervised\n",
    "# ans: Supervised->target column\n",
    "# Regreesion or classification\n",
    "# ans: classification\n",
    "\n",
    "df.info()"
   ]
  },
  {
   "cell_type": "code",
   "execution_count": null,
   "id": "3c7549d6",
   "metadata": {},
   "outputs": [],
   "source": [
    "df.columns"
   ]
  },
  {
   "cell_type": "code",
   "execution_count": null,
   "id": "61716a43",
   "metadata": {},
   "outputs": [],
   "source": [
    "# independent feature->'Pregnancies', 'Glucose', 'BloodPressure', 'SkinThickness', 'Insulin',\n",
    "#        'BMI', 'DiabetesPedigreeFunction', 'Age'\n",
    "# dependent feature-> outcome\n",
    "\n",
    "# descriptive statistics of the dataset\n",
    "df.describe()"
   ]
  },
  {
   "cell_type": "code",
   "execution_count": null,
   "id": "03f3d02c",
   "metadata": {},
   "outputs": [],
   "source": [
    "# (row, columns)\n",
    "df.shape"
   ]
  },
  {
   "cell_type": "code",
   "execution_count": null,
   "id": "f992d29c",
   "metadata": {},
   "outputs": [],
   "source": [
    "# distribution of outcome variable\n",
    "df.Outcome.value_counts()*100/len(df)"
   ]
  },
  {
   "cell_type": "code",
   "execution_count": null,
   "id": "6006847f",
   "metadata": {},
   "outputs": [],
   "source": [
    "df['Outcome'].value_counts()*100/len(df)"
   ]
  },
  {
   "cell_type": "code",
   "execution_count": null,
   "id": "2e82d442",
   "metadata": {},
   "outputs": [],
   "source": [
    "# plot the hist of the age variable\n",
    "plt.figure(figsize=(8,7))\n",
    "plt.xlabel('Age', fontsize=10)\n",
    "plt.ylabel('Count', fontsize=10)\n",
    "df['Age'].hist(edgecolor=\"black\")"
   ]
  },
  {
   "cell_type": "code",
   "execution_count": null,
   "id": "b8a15e0d",
   "metadata": {},
   "outputs": [],
   "source": [
    "df['Age'].max()"
   ]
  },
  {
   "cell_type": "code",
   "execution_count": null,
   "id": "802a6e24",
   "metadata": {},
   "outputs": [],
   "source": [
    "df['Age'].min()"
   ]
  },
  {
   "cell_type": "code",
   "execution_count": null,
   "id": "a365685f",
   "metadata": {},
   "outputs": [],
   "source": [
    "print(\"MAX AGE: \"+str(df['Age'].max()))\n",
    "print(\"MIN AGE: \"+str(df['Age'].min()))"
   ]
  },
  {
   "cell_type": "code",
   "execution_count": null,
   "id": "9233b917",
   "metadata": {},
   "outputs": [],
   "source": [
    "df.columns"
   ]
  },
  {
   "cell_type": "code",
   "execution_count": null,
   "id": "1bfdc4d1",
   "metadata": {},
   "outputs": [],
   "source": [
    "# density graph\n",
    "# 4*2=8\n",
    "# columns=2 figure\n",
    "# having 4 row\n",
    "\n",
    "# [0,0], [0,1]\n",
    "# [1,0], [1,1]\n",
    "# [2,0], [2,1]\n",
    "# [3,0], [3,1]\n",
    "\n",
    "fig,ax = plt.subplots(4,2, figsize=(20,20))\n",
    "sns.distplot(df.Pregnancies, bins=20, ax=ax[0,0], color=\"red\")\n",
    "sns.distplot(df.Glucose, bins=20, ax=ax[0,1], color=\"red\")\n",
    "sns.distplot(df.BloodPressure, bins=20, ax=ax[1,0], color=\"red\")\n",
    "sns.distplot(df.SkinThickness, bins=20, ax=ax[1,1], color=\"red\")\n",
    "sns.distplot(df.Insulin, bins=20, ax=ax[2,0], color=\"red\")\n",
    "sns.distplot(df.BMI, bins=20, ax=ax[2,1], color=\"red\")\n",
    "sns.distplot(df.DiabetesPedigreeFunction, bins=20, ax=ax[3,0], color=\"red\")\n",
    "sns.distplot(df.Age, bins=20, ax=ax[3,1], color=\"red\")\n"
   ]
  },
  {
   "cell_type": "code",
   "execution_count": null,
   "id": "54e0f228",
   "metadata": {},
   "outputs": [],
   "source": [
    "df.columns"
   ]
  },
  {
   "cell_type": "code",
   "execution_count": null,
   "id": "b8676f0c",
   "metadata": {},
   "outputs": [],
   "source": [
    "df.groupby(\"Outcome\").agg({'Pregnancies':'mean'})"
   ]
  },
  {
   "cell_type": "code",
   "execution_count": null,
   "id": "ff26fef1",
   "metadata": {},
   "outputs": [],
   "source": [
    "df.groupby(\"Outcome\").agg({'Pregnancies':'max'})"
   ]
  },
  {
   "cell_type": "code",
   "execution_count": null,
   "id": "fb358ec6",
   "metadata": {},
   "outputs": [],
   "source": [
    "df.groupby(\"Outcome\").agg({'Glucose':'mean'})"
   ]
  },
  {
   "cell_type": "code",
   "execution_count": null,
   "id": "9f78b2ea",
   "metadata": {},
   "outputs": [],
   "source": [
    "df.groupby(\"Outcome\").agg({'Glucose':'max'})"
   ]
  },
  {
   "cell_type": "code",
   "execution_count": 43,
   "id": "2e68df19",
   "metadata": {},
   "outputs": [],
   "source": [
    "# Homework\n",
    "# 'BloodPressure', 'SkinThickness', 'Insulin',\n",
    "#        'BMI', 'DiabetesPedigreeFunction', 'Age'\n",
    "#     groupby-> mean/max"
   ]
  },
  {
   "cell_type": "code",
   "execution_count": null,
   "id": "4398832b",
   "metadata": {},
   "outputs": [],
   "source": [
    "# 0>healthy\n",
    "# 1>diabetes\n",
    "\n",
    "f, ax = plt.subplots(1, 2, figsize=(18, 8))\n",
    "\n",
    "# Pie chart\n",
    "df['Outcome'].value_counts().plot.pie(explode=[0, 0.1], autopct=\"%1.1f%%\", ax=ax[0], shadow=True)\n",
    "ax[0].set_title('Target')\n",
    "ax[0].set_ylabel('')\n",
    "\n",
    "# Count plot\n",
    "sns.countplot(x='Outcome', data=df, ax=ax[1])  # Use 'x' to specify the x-axis variable\n",
    "ax[1].set_title('Outcome')\n",
    "\n",
    "plt.show()\n"
   ]
  },
  {
   "cell_type": "code",
   "execution_count": null,
   "id": "8163afac",
   "metadata": {},
   "outputs": [],
   "source": [
    "df.corr()"
   ]
  },
  {
   "cell_type": "code",
   "execution_count": null,
   "id": "9a632d8c",
   "metadata": {},
   "outputs": [],
   "source": [
    "f,ax = plt.subplots(figsize=[20,15])\n",
    "sns.heatmap(df.corr(), annot=True, fmt = '.2f', ax=ax, cmap='magma')\n",
    "ax.set_title(\"Correlation Matrix\", fontsize=20)\n",
    "plt.show()"
   ]
  },
  {
   "cell_type": "code",
   "execution_count": null,
   "id": "b26bb078",
   "metadata": {},
   "outputs": [],
   "source": [
    "# EDA Part Completed\n",
    "df.columns"
   ]
  },
  {
   "cell_type": "code",
   "execution_count": 55,
   "id": "d41dd6b2",
   "metadata": {},
   "outputs": [],
   "source": [
    "df[['Pregnancies', 'Glucose', 'BloodPressure', 'SkinThickness', 'Insulin',\n",
    "       'BMI', 'DiabetesPedigreeFunction', 'Age']] = df[['Pregnancies', 'Glucose', 'BloodPressure', 'SkinThickness', 'Insulin',\n",
    "       'BMI', 'DiabetesPedigreeFunction', 'Age']].replace(0, np.NaN)"
   ]
  },
  {
   "cell_type": "code",
   "execution_count": null,
   "id": "74178d7b",
   "metadata": {},
   "outputs": [],
   "source": [
    "# Data preprocessing Part\n",
    "df.isnull().sum()"
   ]
  },
  {
   "cell_type": "code",
   "execution_count": null,
   "id": "e0adbf78",
   "metadata": {},
   "outputs": [],
   "source": [
    "df.head()"
   ]
  },
  {
   "cell_type": "code",
   "execution_count": null,
   "id": "e854aafc",
   "metadata": {},
   "outputs": [],
   "source": [
    "import missingno as msno\n",
    "msno.bar(df, color=\"orange\")"
   ]
  },
  {
   "cell_type": "code",
   "execution_count": 63,
   "id": "b651344d",
   "metadata": {},
   "outputs": [],
   "source": [
    "#median\n",
    "def median_target(var):   \n",
    "    temp = df[df[var].notnull()]\n",
    "    temp = temp[[var, 'Outcome']].groupby(['Outcome'])[[var]].median().reset_index()\n",
    "    return temp"
   ]
  },
  {
   "cell_type": "code",
   "execution_count": 65,
   "id": "131d084b",
   "metadata": {},
   "outputs": [],
   "source": [
    "columns = df.columns\n",
    "columns = columns.drop(\"Outcome\")\n",
    "for i in columns:\n",
    "    median_target(i)\n",
    "    df.loc[(df['Outcome'] == 0 ) & (df[i].isnull()), i] = median_target(i)[i][0]\n",
    "    df.loc[(df['Outcome'] == 1 ) & (df[i].isnull()), i] = median_target(i)[i][1]"
   ]
  },
  {
   "cell_type": "code",
   "execution_count": null,
   "id": "ef8f9dc9",
   "metadata": {},
   "outputs": [],
   "source": [
    "df.head()"
   ]
  },
  {
   "cell_type": "code",
   "execution_count": null,
   "id": "f173f5bd",
   "metadata": {},
   "outputs": [],
   "source": [
    "\n",
    "df.isnull().sum()"
   ]
  },
  {
   "cell_type": "code",
   "execution_count": null,
   "id": "f3770077",
   "metadata": {},
   "outputs": [],
   "source": [
    "# pair plot\n",
    "p = sns.pairplot(df, hue=\"Outcome\")"
   ]
  },
  {
   "cell_type": "code",
   "execution_count": null,
   "id": "6cfc5043",
   "metadata": {},
   "outputs": [],
   "source": [
    "# Outlier Detection\n",
    "# IQR+Q1\n",
    "# 50%\n",
    "# 24.65->25%+50%\n",
    "# 24.65->25%\n",
    "for feature in df:\n",
    "    Q1 = df[feature].quantile(0.25)\n",
    "    Q3 = df[feature].quantile(0.75)\n",
    "    IQR = Q3-Q1\n",
    "    lower = Q1-1.5*IQR\n",
    "    upper = Q3+1.5*IQR\n",
    "    if df[(df[feature]>upper)].any(axis=None):\n",
    "        print(feature, \"yes\")\n",
    "    else:\n",
    "        print(feature, \"no\")"
   ]
  },
  {
   "cell_type": "code",
   "execution_count": null,
   "id": "42862d3a",
   "metadata": {},
   "outputs": [],
   "source": [
    "plt.figure(figsize=(8,7))\n",
    "sns.boxplot(x= df[\"Insulin\"], color=\"red\")"
   ]
  },
  {
   "cell_type": "code",
   "execution_count": 77,
   "id": "c63dddc3",
   "metadata": {},
   "outputs": [],
   "source": [
    "Q1 = df.Insulin.quantile(0.25)\n",
    "Q3 = df.Insulin.quantile(0.75)\n",
    "IQR = Q3-Q1\n",
    "lower = Q1-1.5*IQR\n",
    "upper = Q3+1.5*IQR\n",
    "df.loc[df['Insulin']>upper, \"Insulin\"] = upper"
   ]
  },
  {
   "cell_type": "code",
   "execution_count": null,
   "id": "c2346401",
   "metadata": {},
   "outputs": [],
   "source": [
    "plt.figure(figsize=(8,7))\n",
    "sns.boxplot(x= df[\"Insulin\"], color=\"red\")"
   ]
  },
  {
   "cell_type": "code",
   "execution_count": null,
   "id": "24f9c2f7",
   "metadata": {},
   "outputs": [],
   "source": [
    "# LOF\n",
    "# local outlier factor\n",
    "from sklearn.neighbors import LocalOutlierFactor\n",
    "lof = LocalOutlierFactor(n_neighbors=10)\n",
    "lof.fit_predict(df)"
   ]
  },
  {
   "cell_type": "code",
   "execution_count": null,
   "id": "4b3ab3be",
   "metadata": {},
   "outputs": [],
   "source": [
    "df.head()"
   ]
  },
  {
   "cell_type": "code",
   "execution_count": null,
   "id": "c1b6ed41",
   "metadata": {},
   "outputs": [],
   "source": [
    "plt.figure(figsize=(8,7))\n",
    "sns.boxplot(x= df[\"Pregnancies\"], color=\"red\")"
   ]
  },
  {
   "cell_type": "code",
   "execution_count": null,
   "id": "cc2c280a",
   "metadata": {},
   "outputs": [],
   "source": [
    "df_scores = lof.negative_outlier_factor_\n",
    "np.sort(df_scores)[0:20]"
   ]
  },
  {
   "cell_type": "code",
   "execution_count": 89,
   "id": "b2eecd08",
   "metadata": {},
   "outputs": [],
   "source": [
    "thresold = np.sort(df_scores)[7]"
   ]
  },
  {
   "cell_type": "code",
   "execution_count": null,
   "id": "1325767f",
   "metadata": {},
   "outputs": [],
   "source": [
    "thresold"
   ]
  },
  {
   "cell_type": "code",
   "execution_count": 93,
   "id": "5ae532f3",
   "metadata": {},
   "outputs": [],
   "source": [
    "outlier = df_scores>thresold"
   ]
  },
  {
   "cell_type": "code",
   "execution_count": 95,
   "id": "fcd4bd1d",
   "metadata": {},
   "outputs": [],
   "source": [
    "df = df[outlier]"
   ]
  },
  {
   "cell_type": "code",
   "execution_count": null,
   "id": "9df126ee",
   "metadata": {},
   "outputs": [],
   "source": [
    "df.head()"
   ]
  },
  {
   "cell_type": "code",
   "execution_count": null,
   "id": "45cacfcc",
   "metadata": {},
   "outputs": [],
   "source": [
    "df.shape"
   ]
  },
  {
   "cell_type": "code",
   "execution_count": null,
   "id": "bb26d23e",
   "metadata": {},
   "outputs": [],
   "source": [
    "plt.figure(figsize=(8,7))\n",
    "sns.boxplot(x= df[\"Pregnancies\"], color=\"red\")"
   ]
  },
  {
   "cell_type": "code",
   "execution_count": 103,
   "id": "7d2289b8",
   "metadata": {},
   "outputs": [],
   "source": [
    "# Feature Enginnering\n",
    "NewBMI = pd.Series([\"Underweight\",\"Normal\", \"Overweight\",\"Obesity 1\", \"Obesity 2\", \"Obesity 3\"], dtype = \"category\")"
   ]
  },
  {
   "cell_type": "code",
   "execution_count": null,
   "id": "75ca09a0",
   "metadata": {},
   "outputs": [],
   "source": [
    "NewBMI"
   ]
  },
  {
   "cell_type": "code",
   "execution_count": 107,
   "id": "0dd4841b",
   "metadata": {},
   "outputs": [],
   "source": [
    "df['NewBMI'] = NewBMI\n",
    "df.loc[df[\"BMI\"]<18.5, \"NewBMI\"] = NewBMI[0]\n",
    "df.loc[(df[\"BMI\"]>18.5) & df[\"BMI\"]<=24.9, \"NewBMI\"] = NewBMI[1]\n",
    "df.loc[(df[\"BMI\"]>24.9) & df[\"BMI\"]<=29.9, \"NewBMI\"] = NewBMI[2]\n",
    "df.loc[(df[\"BMI\"]>29.9) & df[\"BMI\"]<=34.9, \"NewBMI\"] = NewBMI[3]\n",
    "df.loc[(df[\"BMI\"]>34.9) & df[\"BMI\"]<=39.9, \"NewBMI\"] = NewBMI[4]\n",
    "df.loc[df[\"BMI\"]>39.9, \"NewBMI\"] = NewBMI[5]"
   ]
  },
  {
   "cell_type": "code",
   "execution_count": null,
   "id": "06c096bd",
   "metadata": {},
   "outputs": [],
   "source": [
    "df.head()"
   ]
  },
  {
   "cell_type": "code",
   "execution_count": 111,
   "id": "ef8e4ca0",
   "metadata": {},
   "outputs": [],
   "source": [
    "# if insulin>=16 & insuline<=166->normal\n",
    "def set_insuline(row):\n",
    "    if row[\"Insulin\"]>=16 and row[\"Insulin\"]<=166:\n",
    "        return \"Normal\"\n",
    "    else:\n",
    "        return \"Abnormal\""
   ]
  },
  {
   "cell_type": "code",
   "execution_count": 113,
   "id": "168087fb",
   "metadata": {},
   "outputs": [],
   "source": [
    "df = df.assign(NewInsulinScore=df.apply(set_insuline, axis=1))"
   ]
  },
  {
   "cell_type": "code",
   "execution_count": null,
   "id": "925627d7",
   "metadata": {},
   "outputs": [],
   "source": [
    "df.head()"
   ]
  },
  {
   "cell_type": "code",
   "execution_count": 117,
   "id": "1b71ad4e",
   "metadata": {},
   "outputs": [],
   "source": [
    "# Some intervals were determined according to the glucose variable and these were assigned categorical variables.\n",
    "NewGlucose = pd.Series([\"Low\", \"Normal\", \"Overweight\", \"Secret\", \"High\"], dtype = \"category\")\n",
    "df[\"NewGlucose\"] = NewGlucose\n",
    "df.loc[df[\"Glucose\"] <= 70, \"NewGlucose\"] = NewGlucose[0]\n",
    "df.loc[(df[\"Glucose\"] > 70) & (df[\"Glucose\"] <= 99), \"NewGlucose\"] = NewGlucose[1]\n",
    "df.loc[(df[\"Glucose\"] > 99) & (df[\"Glucose\"] <= 126), \"NewGlucose\"] = NewGlucose[2]\n",
    "df.loc[df[\"Glucose\"] > 126 ,\"NewGlucose\"] = NewGlucose[3]"
   ]
  },
  {
   "cell_type": "code",
   "execution_count": null,
   "id": "31db0c08",
   "metadata": {},
   "outputs": [],
   "source": [
    "df.head()"
   ]
  },
  {
   "cell_type": "code",
   "execution_count": 121,
   "id": "c2f1fa3f",
   "metadata": {},
   "outputs": [],
   "source": [
    "# One hot encoding\n",
    "df = pd.get_dummies(df, columns = [\"NewBMI\", \"NewInsulinScore\", \"NewGlucose\"], drop_first=True)"
   ]
  },
  {
   "cell_type": "code",
   "execution_count": null,
   "id": "76a5fc27",
   "metadata": {},
   "outputs": [],
   "source": [
    "df.head()"
   ]
  },
  {
   "cell_type": "code",
   "execution_count": null,
   "id": "0ae62b38",
   "metadata": {},
   "outputs": [],
   "source": [
    "df.columns"
   ]
  },
  {
   "cell_type": "code",
   "execution_count": 127,
   "id": "5db09c80",
   "metadata": {},
   "outputs": [],
   "source": [
    "categorical_df = df[['NewBMI_Obesity 1',\n",
    "       'NewBMI_Obesity 2', 'NewBMI_Obesity 3', 'NewBMI_Overweight',\n",
    "       'NewBMI_Underweight', 'NewInsulinScore_Normal', 'NewGlucose_Low',\n",
    "       'NewGlucose_Normal', 'NewGlucose_Overweight', 'NewGlucose_Secret']]"
   ]
  },
  {
   "cell_type": "code",
   "execution_count": null,
   "id": "984a5f8d",
   "metadata": {},
   "outputs": [],
   "source": [
    "categorical_df.head()"
   ]
  },
  {
   "cell_type": "code",
   "execution_count": 131,
   "id": "f82967bb",
   "metadata": {},
   "outputs": [],
   "source": [
    "y=df['Outcome']\n",
    "X=df.drop(['Outcome','NewBMI_Obesity 1',\n",
    "       'NewBMI_Obesity 2', 'NewBMI_Obesity 3', 'NewBMI_Overweight',\n",
    "       'NewBMI_Underweight', 'NewInsulinScore_Normal', 'NewGlucose_Low',\n",
    "       'NewGlucose_Normal', 'NewGlucose_Overweight', 'NewGlucose_Secret'], axis=1)"
   ]
  },
  {
   "cell_type": "code",
   "execution_count": 133,
   "id": "d8d65da3",
   "metadata": {},
   "outputs": [],
   "source": [
    "cols = X.columns\n",
    "index = X.index"
   ]
  },
  {
   "cell_type": "code",
   "execution_count": null,
   "id": "7820e3f4",
   "metadata": {},
   "outputs": [],
   "source": [
    "X.head()"
   ]
  },
  {
   "cell_type": "code",
   "execution_count": 137,
   "id": "9e03a0bc",
   "metadata": {},
   "outputs": [],
   "source": [
    "from sklearn.preprocessing import RobustScaler\n",
    "transformer = RobustScaler().fit(X)\n",
    "X=transformer.transform(X)\n",
    "X=pd.DataFrame(X, columns = cols, index = index)"
   ]
  },
  {
   "cell_type": "code",
   "execution_count": null,
   "id": "8b067bbb",
   "metadata": {},
   "outputs": [],
   "source": [
    "X.head()"
   ]
  },
  {
   "cell_type": "code",
   "execution_count": 141,
   "id": "93884711",
   "metadata": {},
   "outputs": [],
   "source": [
    "X = pd.concat([X, categorical_df], axis=1)"
   ]
  },
  {
   "cell_type": "code",
   "execution_count": null,
   "id": "1da22897",
   "metadata": {},
   "outputs": [],
   "source": [
    "X.head()"
   ]
  },
  {
   "cell_type": "code",
   "execution_count": 145,
   "id": "538ff43b",
   "metadata": {},
   "outputs": [],
   "source": [
    "X_train, X_test, y_train , y_test = train_test_split(X,y, test_size=0.2, random_state=0)"
   ]
  },
  {
   "cell_type": "code",
   "execution_count": 147,
   "id": "c09934a1",
   "metadata": {},
   "outputs": [],
   "source": [
    "scaler =StandardScaler()\n",
    "X_train = scaler.fit_transform(X_train)\n",
    "X_test = scaler.transform(X_test)"
   ]
  },
  {
   "cell_type": "code",
   "execution_count": 149,
   "id": "75aedb1b",
   "metadata": {},
   "outputs": [],
   "source": [
    "# Machine Learning Algo"
   ]
  },
  {
   "cell_type": "code",
   "execution_count": 151,
   "id": "50f73df2",
   "metadata": {},
   "outputs": [],
   "source": [
    "# Logistic Regreesion"
   ]
  },
  {
   "cell_type": "code",
   "execution_count": null,
   "id": "988e37bd",
   "metadata": {},
   "outputs": [],
   "source": [
    "log_reg = LogisticRegression()\n",
    "log_reg.fit(X_train, y_train)"
   ]
  },
  {
   "cell_type": "code",
   "execution_count": 155,
   "id": "daf47040",
   "metadata": {},
   "outputs": [],
   "source": [
    "y_pred = log_reg.predict(X_test)"
   ]
  },
  {
   "cell_type": "code",
   "execution_count": null,
   "id": "191a8f87",
   "metadata": {},
   "outputs": [],
   "source": [
    "accuracy_score(y_train, log_reg.predict(X_train))"
   ]
  },
  {
   "cell_type": "code",
   "execution_count": 159,
   "id": "24be537b",
   "metadata": {},
   "outputs": [],
   "source": [
    "log_reg_acc = accuracy_score(y_test, log_reg.predict(X_test))"
   ]
  },
  {
   "cell_type": "code",
   "execution_count": null,
   "id": "f4af6fb7",
   "metadata": {},
   "outputs": [],
   "source": [
    "confusion_matrix(y_test, y_pred)"
   ]
  },
  {
   "cell_type": "code",
   "execution_count": null,
   "id": "d96ff1a6",
   "metadata": {},
   "outputs": [],
   "source": [
    "print(classification_report(y_test, y_pred))"
   ]
  },
  {
   "cell_type": "code",
   "execution_count": 165,
   "id": "81c4a858",
   "metadata": {},
   "outputs": [],
   "source": [
    "# KNN"
   ]
  },
  {
   "cell_type": "code",
   "execution_count": null,
   "id": "963d6a52",
   "metadata": {},
   "outputs": [],
   "source": [
    "knn = KNeighborsClassifier()\n",
    "knn.fit(X_train, y_train)\n",
    "y_pred = knn.predict(X_test)\n",
    "print(accuracy_score(y_train, knn.predict(X_train)))\n",
    "knn_acc = accuracy_score(y_test, knn.predict(X_test))\n",
    "print(accuracy_score(y_test, knn.predict(X_test)))\n",
    "print(confusion_matrix(y_test, y_pred))\n",
    "print(classification_report(y_test, y_pred))"
   ]
  },
  {
   "cell_type": "code",
   "execution_count": null,
   "id": "9c027e95",
   "metadata": {},
   "outputs": [],
   "source": [
    "# SVM\n",
    "svc = SVC(probability=True)\n",
    "parameter = {\n",
    "    \"gamma\":[0.0001, 0.001, 0.01, 0.1],\n",
    "    'C': [0.01, 0.05,0.5, 0.01, 1, 10, 15, 20]\n",
    "}\n",
    "grid_search = GridSearchCV(svc, parameter)\n",
    "grid_search.fit(X_train, y_train)"
   ]
  },
  {
   "cell_type": "code",
   "execution_count": null,
   "id": "e253201d",
   "metadata": {},
   "outputs": [],
   "source": [
    "# best_parameter\n",
    "grid_search.best_params_"
   ]
  },
  {
   "cell_type": "code",
   "execution_count": null,
   "id": "e96387a8",
   "metadata": {},
   "outputs": [],
   "source": [
    "grid_search.best_score_"
   ]
  },
  {
   "cell_type": "code",
   "execution_count": null,
   "id": "8254c3bf",
   "metadata": {},
   "outputs": [],
   "source": [
    "svc = SVC(C=10, gamma = 0.01, probability=True)\n",
    "svc.fit(X_train, y_train)\n",
    "y_pred = svc.predict(X_test)\n",
    "print(accuracy_score(y_train, svc.predict(X_train)))\n",
    "svc_acc = accuracy_score(y_test, svc.predict(X_test))\n",
    "print(accuracy_score(y_test, svc.predict(X_test)))\n",
    "print(confusion_matrix(y_test, y_pred))\n",
    "print(classification_report(y_test, y_pred))"
   ]
  },
  {
   "cell_type": "code",
   "execution_count": 177,
   "id": "30deea67",
   "metadata": {},
   "outputs": [],
   "source": [
    "# Decision Tree"
   ]
  },
  {
   "cell_type": "code",
   "execution_count": null,
   "id": "38e9658e",
   "metadata": {},
   "outputs": [],
   "source": [
    "DT = DecisionTreeClassifier()\n",
    "DT.fit(X_train, y_train)\n",
    "y_pred = DT.predict(X_test)\n",
    "print(accuracy_score(y_train, DT.predict(X_train)))\n",
    "\n",
    "print(accuracy_score(y_test, DT.predict(X_test)))\n",
    "print(confusion_matrix(y_test, y_pred))\n",
    "print(classification_report(y_test, y_pred))"
   ]
  },
  {
   "cell_type": "code",
   "execution_count": null,
   "id": "575906e0",
   "metadata": {},
   "outputs": [],
   "source": [
    "# hyperparameter tuning of dt\n",
    "grid_param = {\n",
    "    'criterion':['gini','entropy'],\n",
    "    'max_depth' :  [3,5,7,10],\n",
    "    'splitter' : ['best','radom'],\n",
    "    'min_samples_leaf':[1,2,3,5,7], \n",
    "    'min_samples_split':[1,2,3,5,7], \n",
    "    'max_features':['auto','sqrt','log2']\n",
    "}\n",
    "grid_search_dt = GridSearchCV(DT, grid_param, cv=50, n_jobs=-1, verbose = 1)\n",
    "grid_search_dt.fit(X_train, y_train)"
   ]
  },
  {
   "cell_type": "code",
   "execution_count": null,
   "id": "aa0a40a4",
   "metadata": {},
   "outputs": [],
   "source": [
    "grid_search_dt.best_params_"
   ]
  },
  {
   "cell_type": "code",
   "execution_count": null,
   "id": "8039547d",
   "metadata": {},
   "outputs": [],
   "source": [
    "grid_search_dt.best_score_"
   ]
  },
  {
   "cell_type": "code",
   "execution_count": null,
   "id": "740c2139",
   "metadata": {},
   "outputs": [],
   "source": [
    "DT = grid_search_dt.best_estimator_\n",
    "y_pred = DT.predict(X_test)\n",
    "print(accuracy_score(y_train, DT.predict(X_train)))\n",
    "dt_acc = accuracy_score(y_test, DT.predict(X_test))\n",
    "print(accuracy_score(y_test, DT.predict(X_test)))\n",
    "print(confusion_matrix(y_test, y_pred))\n",
    "print(classification_report(y_test, y_pred))"
   ]
  },
  {
   "cell_type": "code",
   "execution_count": null,
   "id": "e8eea9a0",
   "metadata": {},
   "outputs": [],
   "source": [
    "rand_clf = RandomForestClassifier(criterion = 'entropy', max_depth = 15, max_features = 0.75, min_samples_leaf = 2, min_samples_split = 3, n_estimators = 130)\n",
    "rand_clf.fit(X_train, y_train)"
   ]
  },
  {
   "cell_type": "code",
   "execution_count": 191,
   "id": "d57d6c8c",
   "metadata": {},
   "outputs": [],
   "source": [
    "y_pred = rand_clf.predict(X_test)"
   ]
  },
  {
   "cell_type": "code",
   "execution_count": null,
   "id": "f105c098",
   "metadata": {},
   "outputs": [],
   "source": [
    "y_pred = rand_clf.predict(X_test)\n",
    "print(accuracy_score(y_train, rand_clf.predict(X_train)))\n",
    "rand_acc = accuracy_score(y_test, rand_clf.predict(X_test))\n",
    "print(accuracy_score(y_test, rand_clf.predict(X_test)))\n",
    "print(confusion_matrix(y_test, y_pred))\n",
    "print(classification_report(y_test, y_pred))"
   ]
  },
  {
   "cell_type": "code",
   "execution_count": null,
   "id": "39d9453d",
   "metadata": {},
   "outputs": [],
   "source": [
    "gbc = GradientBoostingClassifier()\n",
    "\n",
    "parameters = {\n",
    "    'loss': ['deviance', 'exponential'],\n",
    "    'learning_rate': [0.001, 0.1, 1, 10],\n",
    "    'n_estimators': [100, 150, 180, 200]\n",
    "}\n",
    "\n",
    "grid_search_gbc = GridSearchCV(gbc, parameters, cv = 10, n_jobs = -1, verbose = 1)\n",
    "grid_search_gbc.fit(X_train, y_train)"
   ]
  },
  {
   "cell_type": "code",
   "execution_count": null,
   "id": "93d00cdc",
   "metadata": {},
   "outputs": [],
   "source": [
    "grid_search_gbc.best_params_"
   ]
  },
  {
   "cell_type": "code",
   "execution_count": null,
   "id": "7490ac09",
   "metadata": {},
   "outputs": [],
   "source": [
    "grid_search_gbc.best_score_"
   ]
  },
  {
   "cell_type": "code",
   "execution_count": null,
   "id": "37ffe7d1",
   "metadata": {},
   "outputs": [],
   "source": [
    "gbc = GradientBoostingClassifier(learning_rate = 0.1, loss = 'exponential', n_estimators = 150)\n",
    "gbc.fit(X_train, y_train)"
   ]
  },
  {
   "cell_type": "code",
   "execution_count": null,
   "id": "93593504",
   "metadata": {},
   "outputs": [],
   "source": [
    "gbc = grid_search_gbc.best_estimator_\n",
    "y_pred = gbc.predict(X_test)\n",
    "print(accuracy_score(y_train, gbc.predict(X_train)))\n",
    "gbc_acc = accuracy_score(y_test, gbc.predict(X_test))\n",
    "print(accuracy_score(y_test, gbc.predict(X_test)))\n",
    "print(confusion_matrix(y_test, y_pred))\n",
    "print(classification_report(y_test, y_pred))"
   ]
  },
  {
   "cell_type": "code",
   "execution_count": null,
   "id": "f9003f2b",
   "metadata": {},
   "outputs": [],
   "source": [
    "from xgboost import XGBClassifier \n",
    "xgb = XGBClassifier(objective = 'binary:logistic', learning_rate = 0.01, max_depth = 10, n_estimators = 180)\n",
    "\n",
    "xgb.fit(X_train, y_train)"
   ]
  },
  {
   "cell_type": "code",
   "execution_count": null,
   "id": "a450bd41",
   "metadata": {},
   "outputs": [],
   "source": [
    "y_pred = xgb.predict(X_test)\n",
    "print(accuracy_score(y_train, xgb.predict(X_train)))\n",
    "xgb_acc = accuracy_score(y_test, xgb.predict(X_test))\n",
    "print(accuracy_score(y_test, xgb.predict(X_test)))\n",
    "print(confusion_matrix(y_test, y_pred))\n",
    "print(classification_report(y_test, y_pred))"
   ]
  },
  {
   "cell_type": "code",
   "execution_count": null,
   "id": "d67c735c",
   "metadata": {},
   "outputs": [],
   "source": [
    "# Model Comparison\n",
    "models = pd.DataFrame({\n",
    "    'Model': ['Logistic Regression', 'KNN', 'SVM', 'Decision Tree Classifier', 'Random Forest Classifier', 'Gradient Boosting Classifier', 'XgBoost'],\n",
    "    'Score': [100*round(log_reg_acc,4), 100*round(knn_acc,4), 100*round(svc_acc,4), 100*round(dt_acc,4), 100*round(rand_acc,4), \n",
    "              100*round(gbc_acc,4), 100*round(xgb_acc,4)]\n",
    "})\n",
    "models.sort_values(by = 'Score', ascending = False)"
   ]
  },
  {
   "cell_type": "code",
   "execution_count": 211,
   "id": "070c73ea",
   "metadata": {},
   "outputs": [],
   "source": [
    "import pickle\n",
    "model = gbc_acc\n",
    "pickle.dump(model, open(\"diabetes.pkl\",'wb'))"
   ]
  },
  {
   "cell_type": "code",
   "execution_count": null,
   "id": "85b448c2",
   "metadata": {},
   "outputs": [],
   "source": [
    "from sklearn import metrics\n",
    "plt.figure(figsize=(8,5))\n",
    "models = [\n",
    "{\n",
    "    'label': 'LR',\n",
    "    'model': log_reg,\n",
    "},\n",
    "{\n",
    "    'label': 'DT',\n",
    "    'model': DT,\n",
    "},\n",
    "{\n",
    "    'label': 'SVM',\n",
    "    'model': svc,\n",
    "},\n",
    "{\n",
    "    'label': 'KNN',\n",
    "    'model': knn,\n",
    "},\n",
    "{\n",
    "    'label': 'XGBoost',\n",
    "    'model': xgb,\n",
    "},\n",
    "{\n",
    "    'label': 'RF',\n",
    "    'model': rand_clf,\n",
    "},\n",
    "{\n",
    "    'label': 'GBDT',\n",
    "    'model': gbc,\n",
    "}\n",
    "]\n",
    "for m in models:\n",
    "    model = m['model'] \n",
    "    model.fit(X_train, y_train) \n",
    "    y_pred=model.predict(X_test) \n",
    "    fpr1, tpr1, thresholds = metrics.roc_curve(y_test, model.predict_proba(X_test)[:,1])\n",
    "    auc = metrics.roc_auc_score(y_test,model.predict(X_test))\n",
    "    plt.plot(fpr1, tpr1, label='%s - ROC (area = %0.2f)' % (m['label'], auc))\n",
    "\n",
    "plt.plot([0, 1], [0, 1],'r--')\n",
    "plt.xlim([-0.01, 1.0])\n",
    "plt.ylim([0.0, 1.05])\n",
    "plt.xlabel('1 - Specificity (False Positive Rate)', fontsize=12)\n",
    "plt.ylabel('Sensitivity (True Positive Rate)', fontsize=12)\n",
    "plt.title('ROC - Diabetes Prediction', fontsize=12)\n",
    "plt.legend(loc=\"lower right\", fontsize=12)\n",
    "plt.savefig(\"roc_diabetes.jpeg\", format='jpeg', dpi=400, bbox_inches='tight')\n",
    "plt.show()"
   ]
  },
  {
   "cell_type": "code",
   "execution_count": null,
   "id": "6b8ea56a",
   "metadata": {},
   "outputs": [],
   "source": [
    "from sklearn import metrics\n",
    "import numpy as np\n",
    "import matplotlib.pyplot as plt\n",
    "models = [\n",
    "{\n",
    "    'label': 'LR',\n",
    "    'model': log_reg,\n",
    "},\n",
    "{\n",
    "    'label': 'DT',\n",
    "    'model': DT,\n",
    "},\n",
    "{\n",
    "    'label': 'SVM',\n",
    "    'model': svc,\n",
    "},\n",
    "{\n",
    "    'label': 'KNN',\n",
    "    'model': knn,\n",
    "},\n",
    "{\n",
    "    'label': 'XGBoost',\n",
    "    'model': xgb,\n",
    "},\n",
    "{\n",
    "    'label': 'RF',\n",
    "    'model': rand_clf,\n",
    "},\n",
    "{\n",
    "    'label': 'GBDT',\n",
    "    'model': gbc,\n",
    "}\n",
    "]\n",
    "\n",
    "means_roc = []\n",
    "means_accuracy = [100*round(log_reg_acc,4), 100*round(dt_acc,4), 100*round(svc_acc,4), 100*round(knn_acc,4), 100*round(xgb_acc,4), \n",
    "                  100*round(rand_acc,4), 100*round(gbc_acc,4)]\n",
    "\n",
    "for m in models:\n",
    "    model = m['model'] \n",
    "    model.fit(X_train, y_train) \n",
    "    y_pred=model.predict(X_test) \n",
    "    fpr1, tpr1, thresholds = metrics.roc_curve(y_test, model.predict_proba(X_test)[:,1])\n",
    "    auc = metrics.roc_auc_score(y_test,model.predict(X_test))\n",
    "    auc = 100*round(auc,4)\n",
    "    means_roc.append(auc)\n",
    "\n",
    "print(means_accuracy)\n",
    "print(means_roc)\n",
    "\n",
    "# data to plot\n",
    "n_groups = 7\n",
    "means_accuracy = tuple(means_accuracy)\n",
    "means_roc = tuple(means_roc)\n",
    "\n",
    "# create plot\n",
    "fig, ax = plt.subplots(figsize=(8,5))\n",
    "index = np.arange(n_groups)\n",
    "bar_width = 0.35\n",
    "opacity = 0.8\n",
    "\n",
    "rects1 = plt.bar(index, means_accuracy, bar_width,\n",
    "alpha=opacity,\n",
    "color='mediumpurple',\n",
    "label='Accuracy (%)')\n",
    "\n",
    "rects2 = plt.bar(index + bar_width, means_roc, bar_width,\n",
    "alpha=opacity,\n",
    "color='rebeccapurple',\n",
    "label='ROC (%)')\n",
    "\n",
    "plt.xlim([-1, 8])\n",
    "plt.ylim([60, 95])\n",
    "\n",
    "plt.title('Performance Evaluation - Diabetes Prediction', fontsize=12)\n",
    "plt.xticks(index, ('   LR', '   DT', '   SVM', '   KNN', 'XGBoost' , '   RF', '   GBDT'), rotation=40, ha='center', fontsize=12)\n",
    "plt.legend(loc=\"upper right\", fontsize=10)\n",
    "plt.savefig(\"PE_diabetes.jpeg\", format='jpeg', dpi=400, bbox_inches='tight')\n",
    "plt.show()"
   ]
  },
  {
   "cell_type": "code",
   "execution_count": null,
   "id": "44806ee6",
   "metadata": {},
   "outputs": [],
   "source": []
  }
 ],
 "metadata": {
  "kernelspec": {
   "display_name": "Python 3 (ipykernel)",
   "language": "python",
   "name": "python3"
  },
  "language_info": {
   "codemirror_mode": {
    "name": "ipython",
    "version": 3
   },
   "file_extension": ".py",
   "mimetype": "text/x-python",
   "name": "python",
   "nbconvert_exporter": "python",
   "pygments_lexer": "ipython3",
   "version": "3.12.4"
  }
 },
 "nbformat": 4,
 "nbformat_minor": 5
}
